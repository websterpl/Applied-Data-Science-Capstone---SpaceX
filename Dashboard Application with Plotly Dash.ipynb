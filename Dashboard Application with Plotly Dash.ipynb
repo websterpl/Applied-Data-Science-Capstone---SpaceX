{
    "cells": [
        {
            "metadata": {},
            "cell_type": "code",
            "source": "!pip3 install pandas dash",
            "execution_count": 1,
            "outputs": [
                {
                    "output_type": "stream",
                    "text": "Requirement already satisfied: pandas in /opt/conda/envs/Python-3.8-main/lib/python3.8/site-packages (1.2.4)\nRequirement already satisfied: dash in /opt/conda/envs/Python-3.8-main/lib/python3.8/site-packages (2.0.0)\nRequirement already satisfied: python-dateutil>=2.7.3 in /opt/conda/envs/Python-3.8-main/lib/python3.8/site-packages (from pandas) (2.8.1)\nRequirement already satisfied: pytz>=2017.3 in /opt/conda/envs/Python-3.8-main/lib/python3.8/site-packages (from pandas) (2021.1)\nRequirement already satisfied: numpy>=1.16.5 in /opt/conda/envs/Python-3.8-main/lib/python3.8/site-packages (from pandas) (1.19.2)\nRequirement already satisfied: six>=1.5 in /opt/conda/envs/Python-3.8-main/lib/python3.8/site-packages (from python-dateutil>=2.7.3->pandas) (1.15.0)\nRequirement already satisfied: dash-table==5.0.0 in /opt/conda/envs/Python-3.8-main/lib/python3.8/site-packages (from dash) (5.0.0)\nRequirement already satisfied: dash-core-components==2.0.0 in /opt/conda/envs/Python-3.8-main/lib/python3.8/site-packages (from dash) (2.0.0)\nRequirement already satisfied: Flask>=1.0.4 in /opt/conda/envs/Python-3.8-main/lib/python3.8/site-packages (from dash) (2.0.2)\nRequirement already satisfied: plotly>=5.0.0 in /opt/conda/envs/Python-3.8-main/lib/python3.8/site-packages (from dash) (5.4.0)\nRequirement already satisfied: flask-compress in /opt/conda/envs/Python-3.8-main/lib/python3.8/site-packages (from dash) (1.10.1)\nRequirement already satisfied: dash-html-components==2.0.0 in /opt/conda/envs/Python-3.8-main/lib/python3.8/site-packages (from dash) (2.0.0)\nRequirement already satisfied: Werkzeug>=2.0 in /opt/conda/envs/Python-3.8-main/lib/python3.8/site-packages (from Flask>=1.0.4->dash) (2.0.1)\nRequirement already satisfied: Jinja2>=3.0 in /opt/conda/envs/Python-3.8-main/lib/python3.8/site-packages (from Flask>=1.0.4->dash) (3.0.0)\nRequirement already satisfied: itsdangerous>=2.0 in /opt/conda/envs/Python-3.8-main/lib/python3.8/site-packages (from Flask>=1.0.4->dash) (2.0.1)\nRequirement already satisfied: click>=7.1.2 in /opt/conda/envs/Python-3.8-main/lib/python3.8/site-packages (from Flask>=1.0.4->dash) (7.1.2)\nRequirement already satisfied: MarkupSafe>=2.0.0rc2 in /opt/conda/envs/Python-3.8-main/lib/python3.8/site-packages (from Jinja2>=3.0->Flask>=1.0.4->dash) (2.0.1)\nRequirement already satisfied: tenacity>=6.2.0 in /opt/conda/envs/Python-3.8-main/lib/python3.8/site-packages (from plotly>=5.0.0->dash) (8.0.1)\nRequirement already satisfied: brotli in /opt/conda/envs/Python-3.8-main/lib/python3.8/site-packages (from flask-compress->dash) (1.0.9)\n",
                    "name": "stdout"
                }
            ]
        },
        {
            "metadata": {},
            "cell_type": "code",
            "source": "\nimport os, types\nimport pandas as pd\nfrom botocore.client import Config\nimport ibm_boto3\n\ndef __iter__(self): return 0\n\n# @hidden_cell\n# The following code accesses a file in your IBM Cloud Object Storage. It includes your credentials.\n# You might want to remove those credentials before you share the notebook.\n\nif os.environ.get('RUNTIME_ENV_LOCATION_TYPE') == 'external':\n    endpoint_e15ad934f7494b198e3c7d1f871fb1d3 = 'https://s3.eu.cloud-object-storage.appdomain.cloud'\nelse:\n    endpoint_e15ad934f7494b198e3c7d1f871fb1d3 = 'https://s3.private.eu.cloud-object-storage.appdomain.cloud'\n\nclient_e15ad934f7494b198e3c7d1f871fb1d3 = ibm_boto3.client(service_name='s3',\n    ibm_api_key_id='Rg81YOdL3zDiG7O2l5ZR4WwGeoJgvkgMnDC5tFZHeqXB',\n    ibm_auth_endpoint=\"https://iam.cloud.ibm.com/oidc/token\",\n    config=Config(signature_version='oauth'),\n    endpoint_url=endpoint_e15ad934f7494b198e3c7d1f871fb1d3)\n\nbody = client_e15ad934f7494b198e3c7d1f871fb1d3.get_object(Bucket='applieddatasciencecapstonespacex-donotdelete-pr-zoxox4socyhajo',Key='spacex_launch_dash.xlsx')['Body']\n\ndf_data_0 = pd.read_excel(body.read())\ndf_data_0.head()\nspacex_df = df_data_0",
            "execution_count": 2,
            "outputs": []
        },
        {
            "metadata": {},
            "cell_type": "code",
            "source": "# Import required libraries\nimport pandas as pd\nimport dash\nimport dash_html_components as html\nimport dash_core_components as dcc\nfrom dash.dependencies import Input, Output\nimport plotly.express as px\n\n# Read the airline data into pandas dataframe\n# spacex_df = pd.read_csv(\"C:/Prywatne/IBM Data Science/spacex_launch_dash.csv\")\n# spacex_df = pd.read_csv(\"spacex_launch_dash.csv\") #spare lines for data retrieve, data have been downloaded using above Watson's API\n\nmax_payload = spacex_df['Payload Mass (kg)'].max()\nmin_payload = spacex_df['Payload Mass (kg)'].min()",
            "execution_count": 3,
            "outputs": [
                {
                    "output_type": "stream",
                    "text": "/tmp/wsuser/ipykernel_362/1575152262.py:4: UserWarning: \nThe dash_html_components package is deprecated. Please replace\n`import dash_html_components as html` with `from dash import html`\n  import dash_html_components as html\n/tmp/wsuser/ipykernel_362/1575152262.py:5: UserWarning: \nThe dash_core_components package is deprecated. Please replace\n`import dash_core_components as dcc` with `from dash import dcc`\n  import dash_core_components as dcc\n",
                    "name": "stderr"
                }
            ]
        },
        {
            "metadata": {},
            "cell_type": "code",
            "source": "# Create a dash application\napp = dash.Dash(__name__)\n\n# Create an app layout\napp.layout = html.Div(children=[html.H1('SpaceX Launch Records Dashboard',\n                                        style={'textAlign': 'center', 'color': '#503D36',\n                                               'font-size': 40}),\n                                # TASK 1: Add a dropdown list to enable Launch Site selection\n                                # The default select value is for ALL sites\n                                dcc.Dropdown(id='site-dropdown',\n                                options=[{'label': 'All Sites', 'value': 'ALL'},\n                                         {'label': 'CCAFS LC-40', 'value': 'CCAFS LC-40'},\n                                         {'label': 'VAFB SLC-4E', 'value': 'VAFB SLC-4E'},\n                                         {'label': 'KSC LC-39A', 'value': 'KSC LC-39A'},\n                                         {'label': 'CCAFS SLC-40', 'value': 'CCAFS SLC-40'}],\n                                         value='ALL',\n                                         placeholder='Select a Launch Site here.',\n                                         searchable=True),\n                                html.Br(),\n\n                                # TASK 2: Add a pie chart to show the total successful launches count for all sites\n                                # If a specific launch site was selected, show the Success vs. Failed counts for the site\n                                \n                                html.Div(dcc.Graph(id='success-pie-chart')),\n                                \n                                html.Br(),\n\n                                html.P(\"Payload range (Kg):\"),\n                                # TASK 3: Add a slider to select payload range\n                                dcc.RangeSlider(id='payload-slider',\n                                               min=min_payload,\n                                               max=max_payload,\n                                               step=1,\n                                               value=[min_payload, max_payload]),\n\n                                # TASK 4: Add a scatter chart to show the correlation between payload and launch success\n                                html.Div(dcc.Graph(id='success-payload-scatter-chart')),\n                                ])\n\n# TASK 2:\n# Add a callback function for `site-dropdown` as input, `success-pie-chart` as output\n\n@app.callback(\n    Output(component_id='success-pie-chart', component_property='figure'),\n               Input(component_id='site-dropdown', component_property='value')\n)                                \ndef get_pie_graph(chart):\n    #added IF statement\n    \n    if chart == 'ALL':\n        pie_fig = px.pie(spacex_df, values='class', \n        names='Launch Site', \n        title='Total Success Launches by Site')\n    \n    else:\n        filtered_df = spacex_df[['Launch Site', 'Mission Outcome', 'class']]\n        filtered_df = filtered_df[filtered_df['Launch Site']==chart]\n        pie_fig = px.pie(filtered_df, values='class', \n        names='Mission Outcome', \n        title='Total Success Launches by Site')\n    \n    return pie_fig    \n\n\n\n# TASK 4:\n# Add a callback function for `site-dropdown` and `payload-slider` as inputs, `success-payload-scatter-chart` as output\n@app.callback(\n    Output(component_id='success-payload-scatter-chart', component_property='figure'),\n               [Input(component_id='site-dropdown', component_property='value'),\n               Input(component_id='payload-slider', component_property='value')]\n)\n\ndef get_scatter_graph(chart, payload):\n    \n    filtered_df2 = spacex_df[(spacex_df['Payload Mass (kg)'] > payload[0]) & (spacex_df['Payload Mass (kg)'] <= payload[1])]\n\n    \n    if chart == 'ALL':\n        scatter_fig= px.scatter(filtered_df2, x='Payload Mass (kg)',y='class',color='Booster Version Category',\n                        title=\"Correlation between Payload and Success for All sites\")\n    else:\n        filtered_df2 = filtered_df2[filtered_df2['Launch Site']==chart]\n        filtered_df2 = filtered_df2[(filtered_df2['Payload Mass (kg)'] > payload[0]) & (filtered_df2['Payload Mass (kg)'] <= payload[1])]\n        scatter_fig= px.scatter(filtered_df2,x='Payload Mass (kg)', y='class', color='Booster Version Category',\n                        title='Correlation between Payload and Success for selected Site')\n    return scatter_fig\n\n# Run the app\nif __name__ == '__main__':\n    app.run_server()",
            "execution_count": null,
            "outputs": [
                {
                    "output_type": "stream",
                    "text": "Dash is running on http://127.0.0.1:8050/\n\n * Serving Flask app '__main__' (lazy loading)\n * Environment: production\n\u001b[31m   WARNING: This is a development server. Do not use it in a production deployment.\u001b[0m\n\u001b[2m   Use a production WSGI server instead.\u001b[0m\n * Debug mode: off\n",
                    "name": "stdout"
                },
                {
                    "output_type": "stream",
                    "text": " * Running on http://127.0.0.1:8050/ (Press CTRL+C to quit)\n",
                    "name": "stderr"
                }
            ]
        }
    ],
    "metadata": {
        "kernelspec": {
            "name": "python3",
            "display_name": "Python 3.8",
            "language": "python"
        },
        "language_info": {
            "name": "python",
            "version": "3.8.12",
            "mimetype": "text/x-python",
            "codemirror_mode": {
                "name": "ipython",
                "version": 3
            },
            "pygments_lexer": "ipython3",
            "nbconvert_exporter": "python",
            "file_extension": ".py"
        }
    },
    "nbformat": 4,
    "nbformat_minor": 1
}